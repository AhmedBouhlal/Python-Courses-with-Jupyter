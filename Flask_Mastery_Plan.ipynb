{
 "cells": [
  {
   "cell_type": "markdown",
   "id": "2d14446a",
   "metadata": {},
   "source": [
    "# 🧠 Your Flask Mastery Plan (Jupyter Notebook Style)\n",
    "## Each phase will include interactive code cells, diagrams, and mini-projects.\n",
    "### 🔹 Phase 0: Setup\n",
    "✅ Install required packages:"
   ]
  },
  {
   "cell_type": "code",
   "execution_count": null,
   "id": "7998eddd",
   "metadata": {},
   "outputs": [],
   "source": [
    "!pip install flask flask-ngrok ipywidgets"
   ]
  },
  {
   "cell_type": "markdown",
   "id": "66a5edfd",
   "metadata": {},
   "source": [
    "✅ flask-ngrok will allow us to test the Flask app in Jupyter with a public URL.\n",
    "### 🔹 Phase 1: First Flask App in a Notebook\n",
    "✅ Example:"
   ]
  },
  {
   "cell_type": "code",
   "execution_count": null,
   "id": "6ff1f5e4",
   "metadata": {},
   "outputs": [],
   "source": [
    "from flask import Flask\n",
    "from flask_ngrok import run_with_ngrok\n",
    "\n",
    "app = Flask(__name__)\n",
    "run_with_ngrok(app)  # This wraps app.run()\n",
    "\n",
    "@app.route(\"/\")\n",
    "def home():\n",
    "    return \"Hello from Flask inside a Notebook!\"\n",
    "\n",
    "app.run()"
   ]
  },
  {
   "cell_type": "markdown",
   "id": "b3677d5a",
   "metadata": {},
   "source": [
    "✅ This opens a live public link so you can test your Flask app without needing a browser server.\n",
    "\n",
    "### 🔹 Phase 2: Dynamic Routes + Templates\n",
    "@app.route('/user/<name>')\n",
    "\n",
    "Jinja2 template string rendering inside notebook\n",
    "\n",
    "return render_template_string()\n",
    "\n",
    "### 🔹 Phase 3: Forms + POST Requests\n",
    "Handle form submissions using POST\n",
    "\n",
    "request.form\n",
    "\n",
    "Mini-form with HTML in notebook\n",
    "\n",
    "Create a mini-comment system\n",
    "\n",
    "### 🔹 Phase 4: Flask + Data Science\n",
    "You’ll integrate:\n",
    "\n",
    "Pandas for CSV handling\n",
    "\n",
    "Matplotlib/Plotly to generate charts\n",
    "\n",
    "Create an endpoint that returns a chart or table\n",
    "\n",
    "✅ Example Idea: Upload a CSV → view it as a table → generate chart → show in browser\n",
    "\n",
    "### 🔹 Phase 5: REST APIs with Flask\n",
    "Build your first API\n",
    "\n",
    "Use jsonify() and request.get_json()\n",
    "\n",
    "Test with curl or Postman\n",
    "\n",
    "Serve your AI model (.pkl / .h5)\n",
    "\n",
    "### 🔹 Phase 6: Real Projects (In Notebook or Exported to .py)\n",
    "Mini AI API: Serve a trained ML model (e.g. Iris classifier)\n",
    "\n",
    "Flask File Viewer: Upload and display CSV or Excel\n",
    "\n",
    "PDF Certificate Generator: Upload name, download certificate\n",
    "\n",
    "ChatGPT Wrapper: Chat UI with OpenAI API via Flask\n",
    "\n",
    "Student Tracker: Track grades with Flask + Pandas\n",
    "\n",
    "### 🔹 Phase 7: Advanced Flask (still in Notebook!)\n",
    "Blueprints for modular structure\n",
    "\n",
    "Flask extensions (Flask-Login, Flask-WTF)\n",
    "\n",
    "Session management\n",
    "\n",
    "SQLAlchemy for DB\n",
    "\n",
    "Export project as .py app\n",
    "\n",
    "### 🔹 Phase 8: Deployment\n",
    "Even from a notebook, you can:\n",
    "\n",
    "Deploy with ngrok for live demo\n",
    "\n",
    "Later: Export to full Flask project\n",
    "\n",
    "Optional: Deploy to Render/Heroku"
   ]
  },
  {
   "cell_type": "markdown",
   "id": "193db1c3",
   "metadata": {},
   "source": [
    "## ✅ PHASE 1 — Your First Flask App (Hello Flask)\n",
    "### 🧠 Concept:\n",
    "Flask is a Python micro web framework that lets you handle web requests using just Python functions.\n",
    "\n",
    "When someone visits a URL, Flask lets you define what response to return — like HTML, JSON, or a message.\n",
    "\n",
    "### 🔧 Step 1.1 — Import and Set Up\n",
    "🔹 What you'll use:\n",
    "Flask: the main app object\n",
    "\n",
    "run_with_ngrok: to expose your app online (since Jupyter doesn't support localhost browsing easily)\n",
    "\n",
    "🔹 Code:"
   ]
  },
  {
   "cell_type": "code",
   "execution_count": null,
   "id": "880af22c",
   "metadata": {},
   "outputs": [
    {
     "name": "stdout",
     "output_type": "stream",
     "text": [
      " * Serving Flask app '__main__'\n",
      " * Debug mode: off\n"
     ]
    },
    {
     "name": "stderr",
     "output_type": "stream",
     "text": [
      "WARNING: This is a development server. Do not use it in a production deployment. Use a production WSGI server instead.\n",
      " * Running on http://127.0.0.1:5000\n",
      "Press CTRL+C to quit\n",
      "Exception in thread Thread-8:\n",
      "Traceback (most recent call last):\n",
      "  File \"/usr/lib/python3.10/threading.py\", line 1016, in _bootstrap_inner\n",
      "    self.run()\n",
      "  File \"/usr/lib/python3.10/threading.py\", line 1378, in run\n",
      "    self.function(*self.args, **self.kwargs)\n",
      "  File \"/home/syckore/.local/lib/python3.10/site-packages/flask_ngrok.py\", line 70, in start_ngrok\n",
      "    ngrok_address = _run_ngrok()\n",
      "  File \"/home/syckore/.local/lib/python3.10/site-packages/flask_ngrok.py\", line 31, in _run_ngrok\n",
      "    ngrok = subprocess.Popen([executable, 'http', '5000'])\n",
      "  File \"/usr/lib/python3.10/subprocess.py\", line 971, in __init__\n",
      "    self._execute_child(args, executable, preexec_fn, close_fds,\n",
      "  File \"/usr/lib/python3.10/subprocess.py\", line 1863, in _execute_child\n",
      "    raise child_exception_type(errno_num, err_msg, err_filename)\n",
      "PermissionError: [Errno 13] Permission denied: '/tmp/ngrok/ngrok'\n",
      "127.0.0.1 - - [15/Jul/2025 10:00:36] \"GET / HTTP/1.1\" 200 -\n",
      "127.0.0.1 - - [15/Jul/2025 10:00:38] \"GET / HTTP/1.1\" 200 -\n",
      "127.0.0.1 - - [15/Jul/2025 10:00:38] \"GET / HTTP/1.1\" 200 -\n",
      "127.0.0.1 - - [15/Jul/2025 10:00:38] \"GET / HTTP/1.1\" 200 -\n",
      "127.0.0.1 - - [15/Jul/2025 10:00:38] \"GET / HTTP/1.1\" 200 -\n",
      "127.0.0.1 - - [15/Jul/2025 10:01:07] \"GET /hello/Ahmed HTTP/1.1\" 200 -\n",
      "127.0.0.1 - - [15/Jul/2025 10:03:11] \"GET /hello/Ahmed HTTP/1.1\" 200 -\n",
      "127.0.0.1 - - [15/Jul/2025 10:03:15] \"GET / HTTP/1.1\" 200 -\n"
     ]
    }
   ],
   "source": [
    "from flask import Flask\n",
    "from flask_ngrok import run_with_ngrok\n",
    "\n",
    "app = Flask(__name__)            # Create Flask app\n",
    "run_with_ngrok(app)              # Expose to the internet via ngrok\n",
    "\n",
    "@app.route(\"/\")                  # Define route for \"/\"\n",
    "def home():\n",
    "    return \"✅ Hello from Flask inside a Notebook!\"  # Return message when someone visits\n",
    "app.run()                       # Run the app"
   ]
  },
  {
   "cell_type": "markdown",
   "id": "d75c2a5d",
   "metadata": {},
   "source": [
    "## ✅ PHASE 2 — Dynamic URLs with Flask\n",
    "### 🧠 Concept:\n",
    "Flask lets you grab variables directly from the URL using this syntax:"
   ]
  },
  {
   "cell_type": "code",
   "execution_count": null,
   "id": "7c44d961",
   "metadata": {},
   "outputs": [],
   "source": [
    "@app.route(\"/hello/<name>\")\n",
    "def greet(name):\n",
    "    return f\"Hello, {name}!\""
   ]
  },
  {
   "cell_type": "markdown",
   "id": "cbfb5582",
   "metadata": {},
   "source": [
    "### ✅ Step 2.1: Add a Dynamic Route\n",
    "In your Jupyter Notebook, paste and run this full code:"
   ]
  },
  {
   "cell_type": "code",
   "execution_count": null,
   "id": "1e7054a7",
   "metadata": {},
   "outputs": [
    {
     "name": "stdout",
     "output_type": "stream",
     "text": [
      " * Serving Flask app '__main__'\n",
      " * Debug mode: off\n"
     ]
    },
    {
     "name": "stderr",
     "output_type": "stream",
     "text": [
      "WARNING: This is a development server. Do not use it in a production deployment. Use a production WSGI server instead.\n",
      " * Running on http://127.0.0.1:5000\n",
      "Press CTRL+C to quit\n",
      "Exception in thread Thread-8:\n",
      "Traceback (most recent call last):\n",
      "  File \"/usr/lib/python3.10/threading.py\", line 1016, in _bootstrap_inner\n",
      "    self.run()\n",
      "  File \"/usr/lib/python3.10/threading.py\", line 1378, in run\n",
      "    self.function(*self.args, **self.kwargs)\n",
      "  File \"/home/syckore/.local/lib/python3.10/site-packages/flask_ngrok.py\", line 70, in start_ngrok\n",
      "    ngrok_address = _run_ngrok()\n",
      "  File \"/home/syckore/.local/lib/python3.10/site-packages/flask_ngrok.py\", line 31, in _run_ngrok\n",
      "    ngrok = subprocess.Popen([executable, 'http', '5000'])\n",
      "  File \"/usr/lib/python3.10/subprocess.py\", line 971, in __init__\n",
      "    self._execute_child(args, executable, preexec_fn, close_fds,\n",
      "  File \"/usr/lib/python3.10/subprocess.py\", line 1863, in _execute_child\n",
      "    raise child_exception_type(errno_num, err_msg, err_filename)\n",
      "PermissionError: [Errno 13] Permission denied: '/tmp/ngrok/ngrok'\n",
      "127.0.0.1 - - [15/Jul/2025 10:03:29] \"GET / HTTP/1.1\" 200 -\n"
     ]
    }
   ],
   "source": [
    "from flask import Flask\n",
    "from flask_ngrok import run_with_ngrok\n",
    "\n",
    "app = Flask(__name__)\n",
    "run_with_ngrok(app)\n",
    "\n",
    "@app.route(\"/\")\n",
    "def home():\n",
    "    return \"Welcome to the Dynamic Route Demo! 🎯<br>Try /hello/YourName\"\n",
    "\n",
    "@app.route(\"/hello/<name>\")\n",
    "def greet(name):\n",
    "    return f\"👋 Hello, <b>{name}</b>! Glad to see you.\"\n",
    "\n",
    "app.run()"
   ]
  },
  {
   "cell_type": "markdown",
   "id": "095469dd",
   "metadata": {},
   "source": [
    "| Code                          | What It Does                         |\n",
    "| ----------------------------- | ------------------------------------ |\n",
    "| `@app.route(\"/hello/<name>\")` | Captures anything after `/hello/`    |\n",
    "| `def greet(name):`            | Receives the captured part as `name` |\n",
    "| `return f\"...{name}...\"`      | Injects it into the response         |"
   ]
  },
  {
   "cell_type": "markdown",
   "id": "e135fc00",
   "metadata": {},
   "source": [
    "## ✅ PHASE 3 — Handling Forms (GET & POST)\n",
    "### 🧠 Goal:\n",
    "Create a web form where a user types their name → hits submit → sees a personalized greeting.\n",
    "\n",
    "### ✅ Step 3.1: Flask Form Exampl"
   ]
  },
  {
   "cell_type": "code",
   "execution_count": null,
   "id": "f2d73cdd",
   "metadata": {},
   "outputs": [
    {
     "name": "stdout",
     "output_type": "stream",
     "text": [
      " * Serving Flask app '__main__'\n",
      " * Debug mode: off\n"
     ]
    },
    {
     "name": "stderr",
     "output_type": "stream",
     "text": [
      "WARNING: This is a development server. Do not use it in a production deployment. Use a production WSGI server instead.\n",
      " * Running on http://127.0.0.1:5000\n",
      "Press CTRL+C to quit\n",
      "Exception in thread Thread-8:\n",
      "Traceback (most recent call last):\n",
      "  File \"/usr/lib/python3.10/threading.py\", line 1016, in _bootstrap_inner\n",
      "    self.run()\n",
      "  File \"/usr/lib/python3.10/threading.py\", line 1378, in run\n",
      "    self.function(*self.args, **self.kwargs)\n",
      "  File \"/home/syckore/.local/lib/python3.10/site-packages/flask_ngrok.py\", line 70, in start_ngrok\n",
      "    ngrok_address = _run_ngrok()\n",
      "  File \"/home/syckore/.local/lib/python3.10/site-packages/flask_ngrok.py\", line 31, in _run_ngrok\n",
      "    ngrok = subprocess.Popen([executable, 'http', '5000'])\n",
      "  File \"/usr/lib/python3.10/subprocess.py\", line 971, in __init__\n",
      "    self._execute_child(args, executable, preexec_fn, close_fds,\n",
      "  File \"/usr/lib/python3.10/subprocess.py\", line 1863, in _execute_child\n",
      "    raise child_exception_type(errno_num, err_msg, err_filename)\n",
      "PermissionError: [Errno 13] Permission denied: '/tmp/ngrok/ngrok'\n",
      "127.0.0.1 - - [15/Jul/2025 10:05:01] \"GET / HTTP/1.1\" 200 -\n",
      "127.0.0.1 - - [15/Jul/2025 10:06:01] \"POST / HTTP/1.1\" 200 -\n",
      "127.0.0.1 - - [15/Jul/2025 10:06:10] \"GET / HTTP/1.1\" 200 -\n"
     ]
    }
   ],
   "source": [
    "from flask import Flask, request, render_template_string\n",
    "from flask_ngrok import run_with_ngrok\n",
    "\n",
    "app = Flask(__name__)\n",
    "run_with_ngrok(app)\n",
    "\n",
    "@app.route(\"/\", methods=[\"GET\", \"POST\"])\n",
    "def form():\n",
    "    if request.method == \"POST\":\n",
    "        name = request.form.get(\"name\")\n",
    "        return f\"✅ Thanks, <b>{name}</b>! You submitted the form.\"\n",
    "    \n",
    "    return render_template_string(\"\"\"\n",
    "        <h2>💬 Enter Your Name:</h2>\n",
    "        <form method=\"POST\">\n",
    "            <input name=\"name\" placeholder=\"Your name\" />\n",
    "            <input type=\"submit\" />\n",
    "        </form>\n",
    "    \"\"\")\n",
    "\n",
    "app.run()\n"
   ]
  },
  {
   "cell_type": "markdown",
   "id": "c6c35078",
   "metadata": {},
   "source": [
    "📌 How It Works:\n",
    "\n",
    "| Line                       | What it does                               |\n",
    "| -------------------------- | ------------------------------------------ |\n",
    "| `methods=[\"GET\", \"POST\"]`  | Allows both visiting & submitting the form |\n",
    "| `request.form.get(\"name\")` | Reads user input from the form             |\n",
    "| `render_template_string()` | Returns HTML directly from a Python string |"
   ]
  },
  {
   "cell_type": "markdown",
   "id": "8a8bbd7a",
   "metadata": {},
   "source": [
    "## ✅ PHASE 4 — Flask Project Structure + Templates + Static Files\n",
    "### 🧠 Why This Matters:\n",
    "Right now, we’re writing HTML inside Python.\n",
    "But in real Flask projects, HTML is stored in a templates/ folder and CSS/JS/images go in static/.\n",
    "\n",
    "## ✅ Step 4.1: Create a Real Template\n",
    "Since we’re in Jupyter, we’ll use render_template_string() to simulate a real file — later we’ll move to folders."
   ]
  },
  {
   "cell_type": "code",
   "execution_count": null,
   "id": "f1874047",
   "metadata": {},
   "outputs": [
    {
     "name": "stdout",
     "output_type": "stream",
     "text": [
      " * Serving Flask app '__main__'\n",
      " * Debug mode: off\n"
     ]
    },
    {
     "name": "stderr",
     "output_type": "stream",
     "text": [
      "WARNING: This is a development server. Do not use it in a production deployment. Use a production WSGI server instead.\n",
      " * Running on http://127.0.0.1:5000\n",
      "Press CTRL+C to quit\n",
      "Exception in thread Thread-8:\n",
      "Traceback (most recent call last):\n",
      "  File \"/usr/lib/python3.10/threading.py\", line 1016, in _bootstrap_inner\n",
      "    self.run()\n",
      "  File \"/usr/lib/python3.10/threading.py\", line 1378, in run\n",
      "    self.function(*self.args, **self.kwargs)\n",
      "  File \"/home/syckore/.local/lib/python3.10/site-packages/flask_ngrok.py\", line 70, in start_ngrok\n",
      "    ngrok_address = _run_ngrok()\n",
      "  File \"/home/syckore/.local/lib/python3.10/site-packages/flask_ngrok.py\", line 31, in _run_ngrok\n",
      "    ngrok = subprocess.Popen([executable, 'http', '5000'])\n",
      "  File \"/usr/lib/python3.10/subprocess.py\", line 971, in __init__\n",
      "    self._execute_child(args, executable, preexec_fn, close_fds,\n",
      "  File \"/usr/lib/python3.10/subprocess.py\", line 1863, in _execute_child\n",
      "    raise child_exception_type(errno_num, err_msg, err_filename)\n",
      "PermissionError: [Errno 13] Permission denied: '/tmp/ngrok/ngrok'\n",
      "127.0.0.1 - - [15/Jul/2025 10:09:30] \"GET / HTTP/1.1\" 200 -\n",
      "127.0.0.1 - - [15/Jul/2025 10:10:10] \"POST / HTTP/1.1\" 200 -\n",
      "127.0.0.1 - - [15/Jul/2025 10:10:13] \"GET / HTTP/1.1\" 200 -\n"
     ]
    }
   ],
   "source": [
    "from flask import Flask, request, render_template_string, url_for\n",
    "from flask_ngrok import run_with_ngrok\n",
    "\n",
    "app = Flask(__name__)\n",
    "run_with_ngrok(app)\n",
    "\n",
    "@app.route(\"/\", methods=[\"GET\", \"POST\"])\n",
    "def greet_user():\n",
    "    if request.method == \"POST\":\n",
    "        name = request.form.get(\"name\")\n",
    "        return render_template_string(\"\"\"\n",
    "            <html>\n",
    "            <head>\n",
    "                <style>\n",
    "                    body { background: #f0f0f0; font-family: sans-serif; padding: 30px; }\n",
    "                    .box { background: white; padding: 20px; border-radius: 10px; max-width: 400px; margin: auto; }\n",
    "                </style>\n",
    "            </head>\n",
    "            <body>\n",
    "                <div class=\"box\">\n",
    "                    <h2>✅ Welcome, {{ name }}!</h2>\n",
    "                    <a href=\"{{ url_for('greet_user') }}\">⏪ Try again</a>\n",
    "                </div>\n",
    "            </body>\n",
    "            </html>\n",
    "        \"\"\", name=name)\n",
    "\n",
    "    return render_template_string(\"\"\"\n",
    "        <html>\n",
    "        <head>\n",
    "            <style>\n",
    "                body { background: #f0f0f0; font-family: sans-serif; padding: 30px; }\n",
    "                .box { background: white; padding: 20px; border-radius: 10px; max-width: 400px; margin: auto; }\n",
    "            </style>\n",
    "        </head>\n",
    "        <body>\n",
    "            <div class=\"box\">\n",
    "                <h2>💬 Enter your name:</h2>\n",
    "                <form method=\"POST\">\n",
    "                    <input name=\"name\" placeholder=\"Your name\" />\n",
    "                    <input type=\"submit\" />\n",
    "                </form>\n",
    "            </div>\n",
    "        </body>\n",
    "        </html>\n",
    "    \"\"\")\n",
    "\n",
    "app.run()\n"
   ]
  },
  {
   "cell_type": "markdown",
   "id": "38954ed6",
   "metadata": {},
   "source": [
    "## ✅ PHASE 5 — Real Flask Project Structure with Templates & Static Files\n",
    "This phase teaches you to separate HTML/CSS files like in real-world Flask apps.\n",
    "\n",
    "📦 Standard Flask Structure:\n",
    "```bash\n",
    "/project_folder\n",
    "├── app.py\n",
    "├── /templates\n",
    "│   └── index.html\n",
    "└── /static\n",
    "    └── style.css\n",
    "```\n",
    "Flask automatically looks for HTML in /templates and CSS/JS/images in /static.\n",
    "\n",
    "### ✅ Step 5.1 — Prepare Folder\n",
    "\n",
    "Create this structure in your Jupyter/VSCode/Linux:\n",
    "```bash\n",
    "mkdir flask_web_app\n",
    "cd flask_web_app\n",
    "mkdir templates static\n",
    "touch app.py templates/index.html static/style.css\n",
    "```\n",
    "### ✅ Step 5.2 — app.py File"
   ]
  },
  {
   "cell_type": "code",
   "execution_count": 1,
   "id": "842307c1",
   "metadata": {},
   "outputs": [],
   "source": [
    "!mkdir flask_web_app\n",
    "!cd flask_web_app\n",
    "!mkdir templates static\n",
    "!touch app.py templates/index.html static/style.css"
   ]
  },
  {
   "cell_type": "code",
   "execution_count": null,
   "id": "97a429d6",
   "metadata": {},
   "outputs": [
    {
     "name": "stdout",
     "output_type": "stream",
     "text": [
      " * Serving Flask app '__main__'\n",
      " * Debug mode: off\n"
     ]
    },
    {
     "name": "stderr",
     "output_type": "stream",
     "text": [
      "WARNING: This is a development server. Do not use it in a production deployment. Use a production WSGI server instead.\n",
      " * Running on http://127.0.0.1:5000\n",
      "Press CTRL+C to quit\n",
      "Exception in thread Thread-8:\n",
      "Traceback (most recent call last):\n",
      "  File \"/usr/lib/python3.10/threading.py\", line 1016, in _bootstrap_inner\n",
      "    self.run()\n",
      "  File \"/usr/lib/python3.10/threading.py\", line 1378, in run\n",
      "    self.function(*self.args, **self.kwargs)\n",
      "  File \"/home/syckore/.local/lib/python3.10/site-packages/flask_ngrok.py\", line 70, in start_ngrok\n",
      "    ngrok_address = _run_ngrok()\n",
      "  File \"/home/syckore/.local/lib/python3.10/site-packages/flask_ngrok.py\", line 31, in _run_ngrok\n",
      "    ngrok = subprocess.Popen([executable, 'http', '5000'])\n",
      "  File \"/usr/lib/python3.10/subprocess.py\", line 971, in __init__\n",
      "    self._execute_child(args, executable, preexec_fn, close_fds,\n",
      "  File \"/usr/lib/python3.10/subprocess.py\", line 1863, in _execute_child\n",
      "    raise child_exception_type(errno_num, err_msg, err_filename)\n",
      "PermissionError: [Errno 13] Permission denied: '/tmp/ngrok/ngrok'\n",
      "127.0.0.1 - - [15/Jul/2025 10:17:41] \"GET / HTTP/1.1\" 200 -\n",
      "127.0.0.1 - - [15/Jul/2025 10:17:41] \"GET /static/style.css HTTP/1.1\" 200 -\n",
      "127.0.0.1 - - [15/Jul/2025 10:18:08] \"POST / HTTP/1.1\" 200 -\n",
      "127.0.0.1 - - [15/Jul/2025 10:18:08] \"GET /static/style.css HTTP/1.1\" 304 -\n",
      "127.0.0.1 - - [15/Jul/2025 10:18:09] \"GET / HTTP/1.1\" 200 -\n",
      "127.0.0.1 - - [15/Jul/2025 10:18:09] \"GET /static/style.css HTTP/1.1\" 304 -\n"
     ]
    }
   ],
   "source": [
    "from flask import Flask, render_template, request\n",
    "from flask_ngrok import run_with_ngrok\n",
    "\n",
    "app = Flask(__name__, template_folder='templates', static_folder='static')\n",
    "run_with_ngrok(app)\n",
    "\n",
    "@app.route(\"/\", methods=[\"GET\", \"POST\"])\n",
    "def index():\n",
    "    name = None\n",
    "    if request.method == \"POST\":\n",
    "        name = request.form.get(\"name\")\n",
    "    return render_template(\"index.html\", name=name)\n",
    "\n",
    "app.run()"
   ]
  },
  {
   "cell_type": "markdown",
   "id": "677ba0b3",
   "metadata": {},
   "source": [
    "## ✅ PHASE 6 — Build Your First Flask API (JSON Response)\n",
    "### 🧠 Why?\n",
    "APIs let other apps (mobile apps, JS frontends, ML models, etc.) talk to your backend.\n",
    "\n",
    "Instead of returning HTML, we return JSON data.\n",
    "\n",
    "### ✅ Step 6.1: Flask API Example\n"
   ]
  },
  {
   "cell_type": "code",
   "execution_count": null,
   "id": "4b9896a0",
   "metadata": {},
   "outputs": [
    {
     "name": "stdout",
     "output_type": "stream",
     "text": [
      " * Serving Flask app '__main__'\n",
      " * Debug mode: off\n"
     ]
    },
    {
     "name": "stderr",
     "output_type": "stream",
     "text": [
      "WARNING: This is a development server. Do not use it in a production deployment. Use a production WSGI server instead.\n",
      " * Running on http://127.0.0.1:5000\n",
      "Press CTRL+C to quit\n",
      "127.0.0.1 - - [15/Jul/2025 10:38:13] \"GET /api/greet HTTP/1.1\" 405 -\n",
      "127.0.0.1 - - [15/Jul/2025 10:38:13] \"GET /api/greet HTTP/1.1\" 405 -\n",
      "127.0.0.1 - - [15/Jul/2025 10:38:14] \"GET /api/greet HTTP/1.1\" 405 -\n",
      "127.0.0.1 - - [15/Jul/2025 10:38:25] \"POST /api/greet HTTP/1.1\" 200 -\n",
      "127.0.0.1 - - [15/Jul/2025 10:38:29] \"GET /api/greet HTTP/1.1\" 405 -\n"
     ]
    }
   ],
   "source": [
    "from flask import Flask, request, jsonify\n",
    "\n",
    "app = Flask(__name__)\n",
    "\n",
    "@app.route(\"/api/greet\", methods=[\"POST\"])\n",
    "def greet():\n",
    "    data = request.get_json(force=True)\n",
    "    name = data.get(\"name\", \"stranger\")\n",
    "    return jsonify({\n",
    "        \"message\": f\"Hello, {name}!\",\n",
    "        \"status\": \"success\"\n",
    "    })\n",
    "\n",
    "app.run(port=5000)"
   ]
  },
  {
   "cell_type": "markdown",
   "id": "3da00c20",
   "metadata": {},
   "source": [
    "Past this in bash\n",
    "```bash\n",
    "curl -X POST http://localhost:5000/api/greet -H \"Content-Type: application/json\" -d '{\"name\": \"Ahmed\"}'\n",
    "```"
   ]
  },
  {
   "cell_type": "markdown",
   "id": "3231af73",
   "metadata": {},
   "source": [
    "## ✅ PHASE 7 — Serve a Machine Learning Model with Flask\n",
    "You’ll now:\n",
    "\n",
    "Load a trained ML model (e.g., Iris classifier)\n",
    "\n",
    "Send input to it through the API\n",
    "\n",
    "Return prediction in JSON\n",
    "\n",
    "### ✅ Step-by-Step Plan:\n",
    "\n",
    "| Step | What You’ll Do                            |\n",
    "| ---- | ----------------------------------------- |\n",
    "| 1.   | Train and save a model using scikit-learn |\n",
    "| 2.   | Load the model in Flask                   |\n",
    "| 3.   | Create an `/api/predict` endpoint         |\n",
    "| 4.   | Test with `curl` or Postman               |\n",
    "\n",
    "### ✅ STEP 1 — Train and Save a Simple Model\n"
   ]
  },
  {
   "cell_type": "code",
   "execution_count": 1,
   "id": "6b584faf",
   "metadata": {},
   "outputs": [
    {
     "name": "stdout",
     "output_type": "stream",
     "text": [
      "Defaulting to user installation because normal site-packages is not writeable\n",
      "Requirement already satisfied: joblib in /home/syckore/.local/lib/python3.10/site-packages (1.5.1)\n"
     ]
    },
    {
     "name": "stderr",
     "output_type": "stream",
     "text": [
      "/usr/lib/python3/dist-packages/scipy/__init__.py:146: UserWarning: A NumPy version >=1.17.3 and <1.25.0 is required for this version of SciPy (detected version 1.26.4\n",
      "  warnings.warn(f\"A NumPy version >={np_minversion} and <{np_maxversion}\"\n"
     ]
    },
    {
     "name": "stdout",
     "output_type": "stream",
     "text": [
      "✅ Model saved!\n"
     ]
    }
   ],
   "source": [
    "!pip install joblib\n",
    "\n",
    "from sklearn.datasets import load_iris\n",
    "from sklearn.linear_model import LogisticRegression\n",
    "import joblib\n",
    "\n",
    "# Load dataset and train\n",
    "X, y = load_iris(return_X_y=True)\n",
    "model = LogisticRegression(max_iter=200)\n",
    "model.fit(X, y)\n",
    "\n",
    "# Save model to disk\n",
    "joblib.dump(model, \"iris_model.pkl\")\n",
    "print(\"✅ Model saved!\")"
   ]
  },
  {
   "cell_type": "markdown",
   "id": "f4b4d7ee",
   "metadata": {},
   "source": [
    "### ✅ STEP 2 — Create a New Flask API to Serve the Model"
   ]
  },
  {
   "cell_type": "code",
   "execution_count": null,
   "id": "78219476",
   "metadata": {},
   "outputs": [
    {
     "name": "stdout",
     "output_type": "stream",
     "text": [
      " * Serving Flask app '__main__'\n",
      " * Debug mode: off\n"
     ]
    },
    {
     "name": "stderr",
     "output_type": "stream",
     "text": [
      "WARNING: This is a development server. Do not use it in a production deployment. Use a production WSGI server instead.\n",
      " * Running on http://127.0.0.1:5001\n",
      "Press CTRL+C to quit\n",
      "127.0.0.1 - - [15/Jul/2025 10:43:45] \"GET / HTTP/1.1\" 404 -\n",
      "127.0.0.1 - - [15/Jul/2025 10:43:46] \"GET /favicon.ico HTTP/1.1\" 404 -\n",
      "127.0.0.1 - - [15/Jul/2025 10:43:58] \"POST /api/predict HTTP/1.1\" 200 -\n"
     ]
    }
   ],
   "source": [
    "from flask import Flask, request, jsonify\n",
    "import joblib\n",
    "import numpy as np\n",
    "\n",
    "# Load the trained model\n",
    "model = joblib.load(\"iris_model.pkl\")\n",
    "\n",
    "app = Flask(__name__)\n",
    "\n",
    "@app.route(\"/api/predict\", methods=[\"POST\"])\n",
    "def predict():\n",
    "    data = request.get_json(force=True)\n",
    "    features = data.get(\"features\")  # Expecting a list of 4 numbers\n",
    "    if not features or len(features) != 4:\n",
    "        return jsonify({\"error\": \"Please provide 4 features.\"})\n",
    "    \n",
    "    prediction = model.predict([features])[0]\n",
    "    return jsonify({\n",
    "        \"prediction\": int(prediction),\n",
    "        \"message\": f\"Predicted class for {features}\"\n",
    "    })\n",
    "\n",
    "app.run(port=5001)"
   ]
  },
  {
   "cell_type": "markdown",
   "id": "c49843d1",
   "metadata": {},
   "source": [
    "## ✅ GOAL: Website → sends data to Flask → gets prediction → shows result\\\n",
    "You already have the Flask API:\n",
    "```bash\n",
    "POST /api/predict\n",
    "```\n",
    "Now we’ll make a website that:\n",
    "\n",
    "- Shows a form with 4 numbers\n",
    "\n",
    "- Sends them to the Flask API using JavaScript (fetch)\n",
    "\n",
    "- Displays the prediction on the page\n",
    "### ✅ Step 1 — Add This HTML Page\n",
    "Create a new file in your project:\n",
    "```bash\n",
    "templates/predict.html\n",
    "```"
   ]
  },
  {
   "cell_type": "code",
   "execution_count": null,
   "id": "69c88662",
   "metadata": {},
   "outputs": [
    {
     "name": "stderr",
     "output_type": "stream",
     "text": [
      "/usr/lib/python3/dist-packages/scipy/__init__.py:146: UserWarning: A NumPy version >=1.17.3 and <1.25.0 is required for this version of SciPy (detected version 1.26.4\n",
      "  warnings.warn(f\"A NumPy version >={np_minversion} and <{np_maxversion}\"\n"
     ]
    },
    {
     "name": "stdout",
     "output_type": "stream",
     "text": [
      " * Serving Flask app '__main__'\n",
      " * Debug mode: off\n"
     ]
    },
    {
     "name": "stderr",
     "output_type": "stream",
     "text": [
      "WARNING: This is a development server. Do not use it in a production deployment. Use a production WSGI server instead.\n",
      " * Running on http://127.0.0.1:5002\n",
      "Press CTRL+C to quit\n",
      "127.0.0.1 - - [15/Jul/2025 10:51:09] \"GET / HTTP/1.1\" 200 -\n",
      "127.0.0.1 - - [15/Jul/2025 10:51:09] \"GET /favicon.ico HTTP/1.1\" 404 -\n",
      "127.0.0.1 - - [15/Jul/2025 10:51:24] \"POST /api/predict HTTP/1.1\" 200 -\n",
      "127.0.0.1 - - [15/Jul/2025 10:51:29] \"POST /api/predict HTTP/1.1\" 200 -\n",
      "127.0.0.1 - - [15/Jul/2025 10:51:29] \"POST /api/predict HTTP/1.1\" 200 -\n",
      "127.0.0.1 - - [15/Jul/2025 10:51:32] \"POST /api/predict HTTP/1.1\" 200 -\n",
      "127.0.0.1 - - [15/Jul/2025 10:51:35] \"POST /api/predict HTTP/1.1\" 200 -\n",
      "127.0.0.1 - - [15/Jul/2025 10:51:35] \"POST /api/predict HTTP/1.1\" 200 -\n",
      "127.0.0.1 - - [15/Jul/2025 10:51:36] \"GET / HTTP/1.1\" 200 -\n",
      "127.0.0.1 - - [15/Jul/2025 10:51:44] \"POST /api/predict HTTP/1.1\" 200 -\n"
     ]
    }
   ],
   "source": [
    "from flask import Flask, request, jsonify, render_template\n",
    "import joblib\n",
    "\n",
    "model = joblib.load(\"iris_model.pkl\")\n",
    "\n",
    "app = Flask(__name__)\n",
    "\n",
    "@app.route(\"/\")\n",
    "def homepage():\n",
    "    return render_template(\"predict.html\")\n",
    "\n",
    "@app.route(\"/api/predict\", methods=[\"POST\"])\n",
    "def predict():\n",
    "    data = request.get_json(force=True)\n",
    "    features = data.get(\"features\")\n",
    "    if not features or len(features) != 4:\n",
    "        return jsonify({\"error\": \"Expected 4 features.\"})\n",
    "    \n",
    "    prediction = model.predict([features])[0]\n",
    "    return jsonify({\n",
    "        \"prediction\": int(prediction),\n",
    "        \"message\": \"Success\"\n",
    "    })\n",
    "\n",
    "app.run(port=5002)"
   ]
  },
  {
   "cell_type": "code",
   "execution_count": null,
   "id": "bb4e7f47",
   "metadata": {},
   "outputs": [],
   "source": []
  }
 ],
 "metadata": {
  "kernelspec": {
   "display_name": "Python 3 (ipykernel)",
   "language": "python",
   "name": "python3"
  },
  "language_info": {
   "codemirror_mode": {
    "name": "ipython",
    "version": 3
   },
   "file_extension": ".py",
   "mimetype": "text/x-python",
   "name": "python",
   "nbconvert_exporter": "python",
   "pygments_lexer": "ipython3",
   "version": "3.10.12"
  }
 },
 "nbformat": 4,
 "nbformat_minor": 5
}
